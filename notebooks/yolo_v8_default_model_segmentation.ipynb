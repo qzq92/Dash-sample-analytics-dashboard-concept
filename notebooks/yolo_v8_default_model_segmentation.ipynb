{
 "cells": [
  {
   "cell_type": "markdown",
   "metadata": {},
   "source": [
    "# About this notebook\n",
    "\n",
    "This notebook serves to test out pre-trained yolov8 detection/segementation function on land transport data sets. \n",
    "\n",
    "## References\n",
    "1. https://medium.com/@KaziMushfiq1234/perform-prediction-on-images-using-trained-yolov8-with-python-c1b408f61d94\n",
    "2. https://github.com/ultralytics/ultralytics"
   ]
  },
  {
   "cell_type": "code",
   "execution_count": null,
   "metadata": {},
   "outputs": [],
   "source": [
    "## Installation\n",
    "#!pip install ultralytics"
   ]
  },
  {
   "cell_type": "markdown",
   "metadata": {},
   "source": [
    "## Download model weights from provided links\n",
    "- [YOLOv8n](https://github.com/ultralytics/assets/releases/download/v0.0.0/yolov8n.pt)\n",
    "- [YOLOv8s](https://github.com/ultralytics/assets/releases/download/v0.0.0/yolov8s.pt)\n",
    "- [YOLOv8m](https://github.com/ultralytics/assets/releases/download/v0.0.0/yolov8m.pt)\n",
    "- [YOLOv8l](https://github.com/ultralytics/assets/releases/download/v0.0.0/yolov8l.pt)\n",
    "- [YOLOv8x](https://github.com/ultralytics/assets/releases/download/v0.0.0/yolov8x.pt)\n",
    "\n",
    "For simplicity, use the nano version of the model 'YOLOv8n'."
   ]
  },
  {
   "cell_type": "code",
   "execution_count": 5,
   "metadata": {},
   "outputs": [
    {
     "data": {
      "text/plain": [
       "('..\\\\model_weights\\\\yolov8n.pt', <http.client.HTTPMessage at 0x2338cebd760>)"
      ]
     },
     "execution_count": 5,
     "metadata": {},
     "output_type": "execute_result"
    }
   ],
   "source": [
    "# import urllib.request\n",
    "# import os\n",
    "# url=\"https://github.com/ultralytics/assets/releases/download/v0.0.0/yolov8n.pt\"\n",
    "# filename=os.path.join(\"..\",\"model_weights\",\"yolov8n.pt\")\n",
    "# urllib.request.urlretrieve(url, filename)"
   ]
  },
  {
   "cell_type": "markdown",
   "metadata": {},
   "source": [
    "## Raw Image prediction using pre-trained model\n",
    "\n",
    "Reference link: https://docs.ultralytics.com/modes/predict/#inference-sources\n",
    "\n",
    "Please ensure image exists and file name is properly referenced."
   ]
  },
  {
   "cell_type": "code",
   "execution_count": 3,
   "metadata": {},
   "outputs": [],
   "source": [
    "from ultralytics import YOLO\n",
    "import os\n",
    "# Define model and sample imag path\n",
    "model_filename = os.path.join(\"..\",\"model_weights\",\"yolov8n.pt\")\n",
    "sample_image = os.path.join(\"..\", \"data\", \"images\", \"sample\", \"sample_image.jpg\")\n"
   ]
  },
  {
   "cell_type": "code",
   "execution_count": null,
   "metadata": {},
   "outputs": [
    {
     "ename": "NameError",
     "evalue": "name 'YOLO' is not defined",
     "output_type": "error",
     "traceback": [
      "\u001b[1;31m---------------------------------------------------------------------------\u001b[0m",
      "\u001b[1;31mNameError\u001b[0m                                 Traceback (most recent call last)",
      "\u001b[1;32mc:\\Users\\quekz\\OneDrive\\Desktop\\Yolov8-for-Object-Detection-on-LTA-Traffic-Camera-feeds\\notebooks\\yolo_v8_default_model_segmentation.ipynb Cell 7\u001b[0m line \u001b[0;36m1\n\u001b[1;32m----> <a href='vscode-notebook-cell:/c%3A/Users/quekz/OneDrive/Desktop/Yolov8-for-Object-Detection-on-LTA-Traffic-Camera-feeds/notebooks/yolo_v8_default_model_segmentation.ipynb#X14sZmlsZQ%3D%3D?line=0'>1</a>\u001b[0m model \u001b[39m=\u001b[39m YOLO(model_filename)\n\u001b[0;32m      <a href='vscode-notebook-cell:/c%3A/Users/quekz/OneDrive/Desktop/Yolov8-for-Object-Detection-on-LTA-Traffic-Camera-feeds/notebooks/yolo_v8_default_model_segmentation.ipynb#X14sZmlsZQ%3D%3D?line=2'>3</a>\u001b[0m \u001b[39m# DO inference\u001b[39;00m\n\u001b[0;32m      <a href='vscode-notebook-cell:/c%3A/Users/quekz/OneDrive/Desktop/Yolov8-for-Object-Detection-on-LTA-Traffic-Camera-feeds/notebooks/yolo_v8_default_model_segmentation.ipynb#X14sZmlsZQ%3D%3D?line=3'>4</a>\u001b[0m results \u001b[39m=\u001b[39m model\u001b[39m.\u001b[39mpredict(source\u001b[39m=\u001b[39msample_image, boxes\u001b[39m=\u001b[39m\u001b[39mTrue\u001b[39;00m, save\u001b[39m=\u001b[39m\u001b[39mTrue\u001b[39;00m, save_txt\u001b[39m=\u001b[39m\u001b[39mTrue\u001b[39;00m)\n",
      "\u001b[1;31mNameError\u001b[0m: name 'YOLO' is not defined"
     ]
    }
   ],
   "source": [
    "model = YOLO(model_filename)\n",
    "\n",
    "# DO inference\n",
    "results = model.predict(source=sample_image,\n",
    "                        iou =0.7,\n",
    "                        device=\"cpu\",\n",
    "                        boxes=True,\n",
    "                        save=True,\n",
    "                        save_txt=True) # Display preds. Accepts all YOLO predict arguments\n"
   ]
  },
  {
   "cell_type": "markdown",
   "metadata": {},
   "source": [
    "## Get results"
   ]
  },
  {
   "cell_type": "code",
   "execution_count": null,
   "metadata": {},
   "outputs": [],
   "source": [
    "for result in results:\n",
    "    # Detection\n",
    "    result.boxes.xyxy   # box with xyxy format, (N, 4)\n",
    "    result.boxes.xywh   # box with xywh format, (N, 4)\n",
    "    result.boxes.xyxyn  # box with xyxy format but normalized, (N, 4)\n",
    "    result.boxes.xywhn  # box with xywh format but normalized, (N, 4)\n",
    "    result.boxes.conf   # confidence score, (N, 1)\n",
    "    result.boxes.cls    # cls, (N, 1)\n",
    "\n",
    "    # Segmentation\n",
    "    result.masks.data      # masks, (N, H, W)\n",
    "    result.masks.xy        # x,y segments (pixels), List[segment] * N\n",
    "    result.masks.xyn       # x,y segments (normalized), List[segment] * N\n",
    "\n",
    "    # Classification\n",
    "    result.probs     # cls prob, (num_class, )\n",
    "\n",
    "# Each result is composed of torch.Tensor by default,\n",
    "# in which you can easily use following functionality:\n",
    "result = result.cuda()\n",
    "result = result.cpu()\n",
    "result = result.to(\"cpu\")\n",
    "result = result.numpy()\n"
   ]
  },
  {
   "cell_type": "markdown",
   "metadata": {},
   "source": [
    "## Raw Image segementation"
   ]
  },
  {
   "cell_type": "markdown",
   "metadata": {},
   "source": []
  }
 ],
 "metadata": {
  "kernelspec": {
   "display_name": "yolo_v8",
   "language": "python",
   "name": "python3"
  },
  "language_info": {
   "codemirror_mode": {
    "name": "ipython",
    "version": 3
   },
   "file_extension": ".py",
   "mimetype": "text/x-python",
   "name": "python",
   "nbconvert_exporter": "python",
   "pygments_lexer": "ipython3",
   "version": "3.8.18"
  }
 },
 "nbformat": 4,
 "nbformat_minor": 2
}
