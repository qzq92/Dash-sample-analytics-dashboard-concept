{
 "cells": [
  {
   "cell_type": "markdown",
   "metadata": {},
   "source": [
    "This notebook is used to experiment and testing of the validity of old code implemented in manually retrieving MRT and LRT locations by fellow developer, Daniel Sim (xkjyeah) (ref: https://github.com/xkjyeah/MRT-and-LRT-Stations/blob/master/pull_mrt_lrt.py) "
   ]
  },
  {
   "cell_type": "code",
   "execution_count": null,
   "metadata": {},
   "outputs": [],
   "source": [
    "#!/usr/bin/env python\n",
    "\n",
    "import onemap\n",
    "import urllib\n",
    "import httplib2\n",
    "import json\n",
    "import gzip\n",
    "import cPickle\n",
    "import pyproj\n",
    "import pandas as pd\n",
    "\n",
    "url = onemap.GetURL('RestServiceUrl')\n",
    "svy21 = pyproj.Proj(init='epsg:3414')\n"
   ]
  },
  {
   "cell_type": "code",
   "execution_count": null,
   "metadata": {},
   "outputs": [],
   "source": [
    "def download_stuff(what):\n",
    "    data = []\n",
    "    rset = 1\n",
    "\n",
    "    while True:\n",
    "        rurl = url + \\\n",
    "            urllib.quote_plus('SEARCHVAL LIKE \\'${}$\\''.format(what)) + \\\n",
    "        '&' + urllib.urlencode({\n",
    "            'rset': str(rset),\n",
    "            'otptFlds': 'POSTALCODE,CATEGORY',\n",
    "        })\n",
    "        print rurl\n",
    "\n",
    "        h = httplib2.Http('.cache')\n",
    "        _,content = h.request(rurl)\n",
    "\n",
    "        print content\n",
    "\n",
    "        obj = json.loads(content)\n",
    "        data.append(obj)\n",
    "\n",
    "        if len(obj['SearchResults']) == 1:\n",
    "            break\n",
    "\n",
    "        rset += 1\n",
    "\n",
    "    return data"
   ]
  },
  {
   "cell_type": "code",
   "execution_count": null,
   "metadata": {},
   "outputs": [],
   "source": []
  },
  {
   "cell_type": "code",
   "execution_count": null,
   "metadata": {},
   "outputs": [],
   "source": []
  }
 ],
 "metadata": {
  "kernelspec": {
   "display_name": "yolo_v8",
   "language": "python",
   "name": "python3"
  },
  "language_info": {
   "codemirror_mode": {
    "name": "ipython",
    "version": 3
   },
   "file_extension": ".py",
   "mimetype": "text/x-python",
   "name": "python",
   "nbconvert_exporter": "python",
   "pygments_lexer": "ipython3",
   "version": "3.9.18"
  }
 },
 "nbformat": 4,
 "nbformat_minor": 2
}
